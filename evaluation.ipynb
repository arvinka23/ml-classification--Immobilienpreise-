{
 "cells": [
  {
   "cell_type": "markdown",
   "id": "0f55c979-fce7-4542-8bff-0448ef9cc9cf",
   "metadata": {},
   "source": [
    "# 4. Modelloptimierung: California Housing Dataset\n",
    "In diesem Notebook erweitern wir unsere Analyse aus den vorherigen Teilen durch fortgeschrittene Modellierungstechniken, Hyperparameter-Optimierung und Feature Engineering."
   ]
  },
  {
   "cell_type": "markdown",
   "id": "a6da5b9b-4809-4242-8a70-11fe510ed621",
   "metadata": {},
   "source": [
    "# 4.1 Daten laden und vorbereiten"
   ]
  },
  {
   "cell_type": "code",
   "execution_count": 36,
   "id": "a83ef519-f5ec-4ad5-9a1c-1cb60dd1ade4",
   "metadata": {},
   "outputs": [
    {
     "name": "stdout",
     "output_type": "stream",
     "text": [
      "Mean Squared Error (MSE): 666041141924.873\n",
      "Root Mean Squared Error (RMSE): 816113.4369221432\n"
     ]
    }
   ],
   "source": [
    "import pandas as pd\n",
    "from sklearn.model_selection import train_test_split\n",
    "from sklearn.linear_model import LinearRegression\n",
    "from sklearn.metrics import mean_squared_error\n",
    "from sklearn.preprocessing import StandardScaler\n",
    "\n",
    "# Excel-Datei laden\n",
    "file_path = r\"C:\\Users\\arvin\\OneDrive - BBBaden\\Dokumente\\Schule 2023-2024\\BBB 2023-2024\\Modul 259\\Lb\\ml-classification--Immobilienpreise-.xlsx\"\n",
    "data = pd.read_excel(file_path)\n",
    "\n",
    "# Kategorische Spalte 'ocean_proximity' in Dummy-Variablen umwandeln\n",
    "data_encoded = pd.get_dummies(data, columns=['ocean_proximity'], drop_first=True)\n",
    "\n",
    "# Entfernen der Zeilen mit NaN-Werten\n",
    "data_encoded = data_encoded.dropna()\n",
    "\n",
    "# Feature und Zielvariablen definieren\n",
    "X = data_encoded.drop(columns=['median_house_value'])  # Entfernen der Zielspalte 'median_house_value'\n",
    "y1 = data_encoded['median_house_value']  # Zielspalte 'median_house_value' für Immobilienpreise\n",
    "\n",
    "# Aufteilen der Daten in Trainings- und Testdaten\n",
    "X_train, X_test, y_train, y_test = train_test_split(X, y1, test_size=0.2, random_state=42)\n",
    "\n",
    "# Feature-Scaling (optional, aber empfohlen für viele Modelle)\n",
    "scaler = StandardScaler()\n",
    "X_train_scaled = scaler.fit_transform(X_train)\n",
    "X_test_scaled = scaler.transform(X_test)\n",
    "\n",
    "# Lineares Regressionsmodell erstellen und trainieren\n",
    "model = LinearRegression()\n",
    "model.fit(X_train_scaled, y_train)\n",
    "\n",
    "# Vorhersagen für die Testdaten machen\n",
    "y_pred = model.predict(X_test_scaled)\n",
    "\n",
    "# Modellbewertung\n",
    "mse = mean_squared_error(y_test, y_pred)\n",
    "rmse = mse ** 0.5\n",
    "\n",
    "print(f\"Mean Squared Error (MSE): {mse}\")\n",
    "print(f\"Root Mean Squared Error (RMSE): {rmse}\")\n",
    "\n"
   ]
  },
  {
   "cell_type": "markdown",
   "id": "83e695e3-481a-4da5-a443-b9180257b43f",
   "metadata": {},
   "source": [
    "# 4.2 Feature Engineering\n",
    "\n",
    "Wir haben ein lineares Regressionsmodell zur Vorhersage des Immobilienpreises basierend auf den Daten trainiert.\n",
    "Vorhersagen und Metriken:\n",
    "Mean Squared Error (MSE): Der MSE misst die durchschnittliche quadratische Abweichung zwischen den tatsächlichen und den vorhergesagten Werten. Ein hoher MSE deutet auf grosse Fehler im Modell hin.\n",
    "\n",
    "Root Mean Squared Error (RMSE): Der RMSE ist die Quadratwurzel des MSE und gibt die durchschnittliche Abweichung in den gleichen Einheiten wie die Zielvariable (Immobilienpreise) an. Ein hoher RMSE zeigt an, dass das Modell die Immobilienpreise schlecht vorhersagt.\n",
    "\n",
    "Mean Absolute Error (MAE): Der MAE misst die durchschnittliche absolute Abweichung zwischen den tatsächlichen und den vorhergesagten Werten.\n",
    "\n",
    "R² (Bestimmtheitsmaß): R² gibt an, wie gut das Modell die Varianz im Zielwert erklärt. Ein R²-Wert von 1 bedeutet eine perfekte Vorhersage, während 0 darauf hinweist, dass das Modell keine Erklärungskraft hat."
   ]
  },
  {
   "cell_type": "code",
   "execution_count": 38,
   "id": "9a73c21e-adeb-410b-a0b2-d022e32ef41a",
   "metadata": {},
   "outputs": [
    {
     "name": "stdout",
     "output_type": "stream",
     "text": [
      "Mean Squared Error (MSE): 666041141924.873\n",
      "Root Mean Squared Error (RMSE): 816113.4369221432\n",
      "Mean Absolute Error (MAE): 616038.5935086586\n",
      "R² (Bestimmtheitsmaß): 0.5129562436173696\n"
     ]
    }
   ],
   "source": [
    "from sklearn.metrics import mean_squared_error, mean_absolute_error, r2_score\n",
    "\n",
    "# Vorhersagen mit dem Modell machen\n",
    "y_pred = model.predict(X_test_scaled)\n",
    "\n",
    "\n",
    "# Metriken berechnen\n",
    "mse = mean_squared_error(y_test, y_pred)\n",
    "rmse = mse ** 0.5\n",
    "mae = mean_absolute_error(y_test, y_pred)\n",
    "r2 = r2_score(y_test, y_pred)\n",
    "\n",
    "# Metriken ausgeben\n",
    "print(f\"Mean Squared Error (MSE): {mse}\")\n",
    "print(f\"Root Mean Squared Error (RMSE): {rmse}\")\n",
    "print(f\"Mean Absolute Error (MAE): {mae}\")\n",
    "print(f\"R² (Bestimmtheitsmaß): {r2}\")\n"
   ]
  },
  {
   "cell_type": "markdown",
   "id": "834c8bf7-b1e0-4640-92aa-818e011b77c0",
   "metadata": {},
   "source": [
    "Diese Werte zeigen, dass das Modell nur etwa 51% der Varianz im Immobilienpreis erklären kann. Der hohe RMSE und MAE deuten darauf hin, dass die Vorhersagen des Modells signifikante Abweichungen von den tatsächlichen Werten aufweisen. Dies könnte durch nicht erfasste Einflussfaktoren (z. B. Standort, Bausubstanz) oder die Wahl des Modells selbst bedingt sein."
   ]
  },
  {
   "cell_type": "markdown",
   "id": "ed8f05b2-1e82-4533-a470-ba0c94c95905",
   "metadata": {},
   "source": [
    "# 4.3 Modellvergleich\n",
    "\n",
    "Obwohl wir in dieser Analyse ein lineares Regressionsmodell verwendet haben, wäre es sinnvoll, auch andere Modelle wie Entscheidungsbäume, Random Forests oder Gradient Boosting zu testen, um die Vorhersagegenauigkeit zu verbessern. Die Wahl des besten Modells sollte auf der Basis der Modellbewertung und der Vorhersageleistung erfolgen.\n",
    "\n",
    "Ein Vergleich der Modelle könnte zusätzliche Einblicke in die Leistung und Verbesserungspotenziale des Modells bieten."
   ]
  },
  {
   "cell_type": "code",
   "execution_count": 39,
   "id": "f8ba4616-5bd8-4c83-a6c8-bf8a6e28b47f",
   "metadata": {},
   "outputs": [
    {
     "name": "stdout",
     "output_type": "stream",
     "text": [
      "Wahrheitsmatrix (Confusion Matrix):\n",
      "[[   0    2]\n",
      " [  12 4073]]\n",
      "Sensitivität (Recall für teure Immobilien): 1.00\n",
      "Spezifizität (Recall für günstige Immobilien): 0.00\n"
     ]
    }
   ],
   "source": [
    "from sklearn.metrics import confusion_matrix, classification_report\n",
    "\n",
    "# Schwelle festlegen\n",
    "threshold = 300000\n",
    "\n",
    "# Echte Klassen (0 = günstig, 1 = teuer)\n",
    "y_test_class = (y_test >= threshold).astype(int)\n",
    "\n",
    "# Vorhergesagte Klassen auf Basis der Regressionsvorhersage\n",
    "y_pred_class = (y_pred >= threshold).astype(int)\n",
    "\n",
    "# Wahrheitsmatrix\n",
    "cm = confusion_matrix(y_test_class, y_pred_class)\n",
    "tn, fp, fn, tp = cm.ravel()\n",
    "\n",
    "# Sensitivität (Recall für Klasse 1)\n",
    "sensitivity = tp / (tp + fn)\n",
    "\n",
    "# Spezifizität (Recall für Klasse 0)\n",
    "specificity = tn / (tn + fp)\n",
    "\n",
    "print(\"Wahrheitsmatrix (Confusion Matrix):\")\n",
    "print(cm)\n",
    "print(f\"Sensitivität (Recall für teure Immobilien): {sensitivity:.2f}\")\n",
    "print(f\"Spezifizität (Recall für günstige Immobilien): {specificity:.2f}\")\n"
   ]
  },
  {
   "cell_type": "markdown",
   "id": "0e65a59e-8312-460f-866f-c5758e244568",
   "metadata": {},
   "source": [
    "## 4.4 Zusammenfassung und Schlussfolgerungen\n",
    "\n",
    "### Vergleich der Modelle\n",
    "\n",
    "Modellleistung: Das lineare Regressionsmodell hat eine mäsige Leistung mit einem R²-Wert von ca. 0.51 und einem hohen RMSE (ca. 816'000 USD) und MAE (ca. 616'000 USD). Dies zeigt, dass das Modell die Preise nur unzureichend vorhersagen kann und noch Verbesserungspotenzial besteht.\n",
    "\n",
    "Fehlerquellen: Die hohen Fehlermasse deuten darauf hin, dass das Modell nicht alle relevanten Faktoren berücksichtigt. Eine Verbesserung könnte durch Feature Engineering (z. B. Hinzufügen weiterer Merkmale wie Standort oder Bausubstanz) erreicht werden.\n",
    "\n",
    "Zukünftige Schritte: Um die Modellleistung zu steigern, sollten:\n",
    "\n",
    "Weitere Datenquellen und Features einbezogen werden.\n",
    "\n",
    "Alternativen wie Entscheidungsbäume oder nichtlineare Modelle untersucht werden.\n",
    "\n",
    "Eine sorgfältige Hyperparameter-Tuning durchgeführt werden.\n",
    "\n",
    "Zusammengefasst zeigt das Modell eine akzeptable, aber nicht beeindruckende Leistung. Verbesserungen sind möglich, insbesondere durch die Berücksichtigung zusätzlicher Merkmale und den Vergleich mit anderen Modellen.\n",
    "\n",
    "\n",
    "\n",
    "\n",
    "\n",
    "\n",
    "\n",
    "\n",
    "\n",
    "\n"
   ]
  },
  {
   "cell_type": "code",
   "execution_count": null,
   "id": "02932be0-bf82-4b7b-a464-d487cdd6b7d0",
   "metadata": {},
   "outputs": [],
   "source": []
  }
 ],
 "metadata": {
  "kernelspec": {
   "display_name": "Python 3 (ipykernel)",
   "language": "python",
   "name": "python3"
  },
  "language_info": {
   "codemirror_mode": {
    "name": "ipython",
    "version": 3
   },
   "file_extension": ".py",
   "mimetype": "text/x-python",
   "name": "python",
   "nbconvert_exporter": "python",
   "pygments_lexer": "ipython3",
   "version": "3.12.6"
  }
 },
 "nbformat": 4,
 "nbformat_minor": 5
}
